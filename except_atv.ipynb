{
  "nbformat": 4,
  "nbformat_minor": 0,
  "metadata": {
    "colab": {
      "provenance": [],
      "name": "except_atv.ipynb",
      "authorship_tag": "ABX9TyOB50FpoPWFDWIcgzHG5o1m",
      "include_colab_link": true
    },
    "kernelspec": {
      "name": "python3",
      "display_name": "Python 3"
    },
    "language_info": {
      "name": "python"
    }
  },
  "cells": [
    {
      "cell_type": "markdown",
      "metadata": {
        "id": "view-in-github",
        "colab_type": "text"
      },
      "source": [
        "<a href=\"https://colab.research.google.com/github/carolpeixoto1/novo_projeto/blob/main/except_atv.ipynb\" target=\"_parent\"><img src=\"https://colab.research.google.com/assets/colab-badge.svg\" alt=\"Open In Colab\"/></a>"
      ]
    },
    {
      "cell_type": "markdown",
      "source": [
        "Utilizando **except**"
      ],
      "metadata": {
        "id": "9QaNsA756u7J"
      }
    },
    {
      "cell_type": "code",
      "execution_count": null,
      "metadata": {
        "colab": {
          "base_uri": "https://localhost:8080/"
        },
        "id": "RL7ox7kWSJ5c",
        "outputId": "6adf32c9-d061-4991-ea66-693cf43812fb"
      },
      "outputs": [
        {
          "output_type": "stream",
          "name": "stdout",
          "text": [
            "digita seu nome completo\n",
            "Carol\n",
            "ano do seu nascimento\n",
            "casa\n",
            "os anos tem que ser escritos apenas com números\n",
            "ano do seu nascimento\n",
            "os anos tem que ser escritos apenas com números\n",
            "ano do seu nascimento\n",
            "os anos tem que ser escritos apenas com números\n",
            "ano do seu nascimento\n"
          ]
        }
      ],
      "source": [
        "print(\"digita seu nome completo\")\n",
        "nome=input()\n",
        "\n",
        "executar = True\n",
        "while(executar == True) :\n",
        "  print(\"ano do seu nascimento\")\n",
        "  try:\n",
        "    ano = int(input())\n",
        "    if (ano<1922) or(ano >2021):\n",
        "     print(\" O ano precisa ser entre 1922 e 2021\")\n",
        "    else:\n",
        "      idade = 2022-ano\n",
        "      print(\" Seu nome é...\",nome,\"sua idade é...\",idade)\n",
        "      executar = False\n",
        "\n",
        "  except:\n",
        "      print(\"os anos tem que ser escritos apenas com números\")\n",
        "\n",
        "\n",
        "\n",
        "\n"
      ]
    }
  ]
}