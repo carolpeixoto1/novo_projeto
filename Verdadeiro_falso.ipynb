{
  "cells": [
    {
      "cell_type": "markdown",
      "metadata": {
        "id": "view-in-github",
        "colab_type": "text"
      },
      "source": [
        "<a href=\"https://colab.research.google.com/github/carolpeixoto1/novo_projeto/blob/main/Verdadeiro_falso.ipynb\" target=\"_parent\"><img src=\"https://colab.research.google.com/assets/colab-badge.svg\" alt=\"Open In Colab\"/></a>"
      ]
    },
    {
      "cell_type": "markdown",
      "source": [
        "Utilizando **While** em *verdadeiro/falso*"
      ],
      "metadata": {
        "id": "EvqPXgoH5_Bd"
      }
    },
    {
      "cell_type": "code",
      "execution_count": null,
      "metadata": {
        "colab": {
          "background_save": true,
          "base_uri": "https://localhost:8080/"
        },
        "id": "uhSdXt5m_RUW",
        "outputId": "fb13f14e-1012-41f9-d696-275f1a398d7d"
      },
      "outputs": [
        {
          "name": "stdout",
          "output_type": "stream",
          "text": [
            "Insira um número par\n"
          ]
        }
      ],
      "source": [
        "numeroCorreto = False\n",
        "\n",
        "while (numeroCorreto == False):\n",
        "\n",
        "   print(\"Insira um número par\")\n",
        "\n",
        "   try:\n",
        "\n",
        "       numero = int(input())\n",
        "\n",
        "       if (numero%2 == 0):\n",
        "\n",
        "           numeroCorreto = True\n",
        "\n",
        "           print(\"Você digitou um numero par !\")\n",
        "\n",
        "       else :\n",
        "\n",
        "           print(\"Você digitou um número impar\")\n",
        "\n",
        "   except:\n",
        "\n",
        "       print(\"Caracter inválido, por favor digite um número par\")"
      ]
    }
  ],
  "metadata": {
    "colab": {
      "provenance": [],
      "authorship_tag": "ABX9TyMiAzq8YwYIP68tbtFsVCBB",
      "include_colab_link": true
    },
    "kernelspec": {
      "display_name": "Python 3",
      "name": "python3"
    },
    "language_info": {
      "name": "python"
    }
  },
  "nbformat": 4,
  "nbformat_minor": 0
}