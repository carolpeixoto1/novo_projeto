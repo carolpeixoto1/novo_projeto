{
  "nbformat": 4,
  "nbformat_minor": 0,
  "metadata": {
    "colab": {
      "provenance": [],
      "authorship_tag": "ABX9TyNA/xex5FzEXGvJ0CoTegfP",
      "include_colab_link": true
    },
    "kernelspec": {
      "name": "python3",
      "display_name": "Python 3"
    },
    "language_info": {
      "name": "python"
    }
  },
  "cells": [
    {
      "cell_type": "markdown",
      "metadata": {
        "id": "view-in-github",
        "colab_type": "text"
      },
      "source": [
        "<a href=\"https://colab.research.google.com/github/carolpeixoto1/novo_projeto/blob/main/Estrutura_de_Repeti%C3%A7%C3%A3o.ipynb\" target=\"_parent\"><img src=\"https://colab.research.google.com/assets/colab-badge.svg\" alt=\"Open In Colab\"/></a>"
      ]
    },
    {
      "cell_type": "markdown",
      "source": [
        "# ***Estrutura de repetição**\n",
        "\n"
      ],
      "metadata": {
        "id": "hOHB9UY20TfY"
      }
    },
    {
      "cell_type": "code",
      "execution_count": 6,
      "metadata": {
        "colab": {
          "base_uri": "https://localhost:8080/"
        },
        "id": "Vy3WMijb0QvP",
        "outputId": "aafaba08-2568-45c3-adbd-e46d3944e7e1"
      },
      "outputs": [
        {
          "output_type": "stream",
          "name": "stdout",
          "text": [
            "olá mundo \n",
            "olá mundo \n",
            "olá mundo \n",
            "nova frase\n",
            "nova frase\n",
            "nova frase\n"
          ]
        }
      ],
      "source": [
        "i=0\n",
        "while(i<3):\n",
        "  print(\"olá mundo \")\n",
        "  i=i+1\n",
        "\n",
        "for i in range(3):\n",
        "  print(\"nova frase\")\n",
        "\n"
      ]
    },
    {
      "cell_type": "code",
      "source": [
        "for i in range(0,6):\n",
        "  print(\"regue as plantas \" +str(i))"
      ],
      "metadata": {
        "colab": {
          "base_uri": "https://localhost:8080/"
        },
        "id": "MEEzA8Ph2Tqw",
        "outputId": "dbc187a9-1f6e-4db2-f55f-5e96f97178b6"
      },
      "execution_count": 19,
      "outputs": [
        {
          "output_type": "stream",
          "name": "stdout",
          "text": [
            "regue as plantas 0\n",
            "regue as plantas 1\n",
            "regue as plantas 2\n",
            "regue as plantas 3\n",
            "regue as plantas 4\n",
            "regue as plantas 5\n"
          ]
        }
      ]
    },
    {
      "cell_type": "code",
      "source": [
        "for i in range(0,6):\n",
        "  if i %2==0:\n",
        "    print(\"regue a planta:\",i)\n",
        "  else:\n",
        "      print(\"não regue a planta:\",i)"
      ],
      "metadata": {
        "colab": {
          "base_uri": "https://localhost:8080/"
        },
        "id": "olHDLbMk4TDl",
        "outputId": "2813c945-cdff-426b-f59f-005ff5483c83"
      },
      "execution_count": 25,
      "outputs": [
        {
          "output_type": "stream",
          "name": "stdout",
          "text": [
            "regue a planta: 0\n",
            "não regue a planta: 1\n",
            "regue a planta: 2\n",
            "não regue a planta: 3\n",
            "regue a planta: 4\n",
            "não regue a planta: 5\n"
          ]
        }
      ]
    }
  ]
}