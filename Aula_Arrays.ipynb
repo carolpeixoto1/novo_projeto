{
  "nbformat": 4,
  "nbformat_minor": 0,
  "metadata": {
    "colab": {
      "provenance": [],
      "authorship_tag": "ABX9TyOjDx88Pl7x+fkqo8aQGUWC",
      "include_colab_link": true
    },
    "kernelspec": {
      "name": "python3",
      "display_name": "Python 3"
    },
    "language_info": {
      "name": "python"
    }
  },
  "cells": [
    {
      "cell_type": "markdown",
      "metadata": {
        "id": "view-in-github",
        "colab_type": "text"
      },
      "source": [
        "<a href=\"https://colab.research.google.com/github/carolpeixoto1/novo_projeto/blob/main/Aula_Arrays.ipynb\" target=\"_parent\"><img src=\"https://colab.research.google.com/assets/colab-badge.svg\" alt=\"Open In Colab\"/></a>"
      ]
    },
    {
      "cell_type": "code",
      "execution_count": null,
      "metadata": {
        "id": "lAgTg1y8yU7b"
      },
      "outputs": [],
      "source": [
        "lista_floats = [0.3, 3.9, 89.15, 123.45]\n",
        "lista_strings = [\"Eu\", \"gosto\", \"de\", \"panquecas\"]\n",
        "lista_booleanos = [False, True, True, False]\n",
        "lista_listas = [[1, 2, 3], ['a', 'b', 'c']]"
      ]
    }
  ]
}