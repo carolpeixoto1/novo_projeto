{
  "nbformat": 4,
  "nbformat_minor": 0,
  "metadata": {
    "colab": {
      "provenance": [],
      "authorship_tag": "ABX9TyMrmAawPbaNiu9xlqmjX+fS",
      "include_colab_link": true
    },
    "kernelspec": {
      "name": "python3",
      "display_name": "Python 3"
    },
    "language_info": {
      "name": "python"
    }
  },
  "cells": [
    {
      "cell_type": "markdown",
      "metadata": {
        "id": "view-in-github",
        "colab_type": "text"
      },
      "source": [
        "<a href=\"https://colab.research.google.com/github/carolpeixoto1/novo_projeto/blob/main/append.ipynb\" target=\"_parent\"><img src=\"https://colab.research.google.com/assets/colab-badge.svg\" alt=\"Open In Colab\"/></a>"
      ]
    },
    {
      "cell_type": "markdown",
      "source": [
        "Agora vamos aprender a usar duas funções nativas de Python para adicionar e remover itens de um array. A primeira delas é a função append(), que em inglês significa “anexar” ou “acrescentar”. Para usá-la basta escrever o nome do array ao qual queremos adicionar um item, seguido de um ponto ‘.’, o nome da função, e o item a ser adicionado dentro dos parênteses:\n",
        "\n",
        "E se quisermos remover o elemento que acabamos de adicionar? A função pop() vem para nos ajudar a resolver esse problema. Usamos ele da mesma forma que a função append(), porém, não precisamos passar nenhum argumento dentro dos parênteses. Assim, ele entenderá que o item a ser removido do array é o último."
      ],
      "metadata": {
        "id": "eSLorpxdH7HG"
      }
    },
    {
      "cell_type": "code",
      "execution_count": null,
      "metadata": {
        "id": "DGO4o3gnHcBo"
      },
      "outputs": [],
      "source": [
        "lista_frutas = ['maçã', 'banana', 'pera']\n",
        "print(lista_frutas)\n",
        "# Imprimirá: ['maçã', 'banana', 'pera']\n",
        "\n",
        "lista_frutas[0] = 'melancia'\n",
        "print(lista_frutas)\n",
        "# Imprimirá: ['melancia', 'banana', 'pera']\n",
        "\n",
        "lista_frutas = ['melancia', 'banana', 'pera']\n",
        "print(lista_frutas)\n",
        "# Imprimirá: ['melancia', 'banana', 'pera']\n",
        "\n",
        "lista_frutas[1], lista_frutas[2] = 'morango', 'abacaxi'\n",
        "print(lista_frutas)\n",
        "# Imprimirá: ['melancia', 'morango', 'abacaxi']\n",
        "\n",
        "lista_frutas = ['melancia', 'morango', 'abacaxi']\n",
        "print(lista_frutas)\n",
        "# Imprimirá: ['melancia', 'morango', 'abacaxi']\n",
        "\n",
        "lista_frutas[1] = lista_frutas[0]\n",
        "print(lista_frutas)\n",
        "# Imprimirá: ['melancia', 'melancia', 'abacaxi']\n",
        "\n",
        "\n",
        "lista_frutas = ['melancia', 'morango', 'abacaxi']\n",
        "print(lista_frutas)\n",
        "# Imprimirá: ['melancia', 'morango', 'abacaxi']\n",
        "\n",
        "lista_frutas.append('kiwi')\n",
        "print(lista_frutas)\n",
        "# Imprimirá: ['melancia', 'morango', 'abacaxi', 'kiwi']\n",
        "\n",
        "\n",
        "lista_frutas = ['melancia', 'morango', 'abacaxi', 'kiwi']\n",
        "print(lista_frutas)\n",
        "# Imprimirá: ['melancia', 'morango', 'abacaxi', 'kiwi']\n",
        "\n",
        "lista_frutas.pop()\n",
        "print(lista_frutas)\n",
        "# Imprimirá: ['melancia', 'morango', 'abacaxi']"
      ]
    },
    {
      "cell_type": "code",
      "source": [
        "*Exercicio:*\n",
        "\n",
        "lista_produtos = ['máscaras faciais', 'batons', 'esmaltes', 'perfumes', 'loções', 'xampus', 'sabonetes', 'delineadores']\n",
        "lista_produtos[1],lista_produtos[4]=\"rimel\",\"hidratante\"\n",
        "lista_produtos.append('perfume,'+'bolsas')\n",
        "print(lista_produtos)"
      ],
      "metadata": {
        "id": "CIt0Gp0GIWN1"
      },
      "execution_count": null,
      "outputs": []
    }
  ]
}