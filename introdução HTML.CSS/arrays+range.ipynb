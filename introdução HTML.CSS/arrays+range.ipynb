{
  "nbformat": 4,
  "nbformat_minor": 0,
  "metadata": {
    "colab": {
      "provenance": [],
      "authorship_tag": "ABX9TyNBOEN/feJELd3o8wSG6x/a",
      "include_colab_link": true
    },
    "kernelspec": {
      "name": "python3",
      "display_name": "Python 3"
    },
    "language_info": {
      "name": "python"
    }
  },
  "cells": [
    {
      "cell_type": "markdown",
      "metadata": {
        "id": "view-in-github",
        "colab_type": "text"
      },
      "source": [
        "<a href=\"https://colab.research.google.com/github/carolpeixoto1/novo_projeto/blob/main/arrays%2Brange.ipynb\" target=\"_parent\"><img src=\"https://colab.research.google.com/assets/colab-badge.svg\" alt=\"Open In Colab\"/></a>"
      ]
    },
    {
      "cell_type": "markdown",
      "source": [
        "# Arrays + Range"
      ],
      "metadata": {
        "id": "FHcjSl6fDg3R"
      }
    },
    {
      "cell_type": "code",
      "execution_count": null,
      "metadata": {
        "id": "fPeo8h6rDch1"
      },
      "outputs": [],
      "source": [
        "lista_num = [2, 45, 65, 78, 126, 987, 457, 345, 679, 107, 2345, 452, 3, 34, 560]\n",
        "\n",
        "for i in range(len(lista_num)):\n",
        "print(lista_num[i])"
      ]
    },
    {
      "cell_type": "code",
      "source": [
        "Atividade :\n",
        "lista_produtos = ['máscaras faciais', 'batons', 'esmaltes', 'perfumes', 'loções', 'xampus', 'sabonetes', 'delineadores']\n",
        "\n",
        "for i in range(len(lista_produtos)):\n",
        " print(\"temos esses produtos na loja: \" + str(lista_produtos[i]))"
      ],
      "metadata": {
        "id": "XZxOH5faEGqL"
      },
      "execution_count": null,
      "outputs": []
    }
  ]
}