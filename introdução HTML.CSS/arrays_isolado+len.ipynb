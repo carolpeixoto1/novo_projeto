{
  "nbformat": 4,
  "nbformat_minor": 0,
  "metadata": {
    "colab": {
      "provenance": [],
      "authorship_tag": "ABX9TyP0L29is2+kxqqf1ZZcfWBV",
      "include_colab_link": true
    },
    "kernelspec": {
      "name": "python3",
      "display_name": "Python 3"
    },
    "language_info": {
      "name": "python"
    }
  },
  "cells": [
    {
      "cell_type": "markdown",
      "metadata": {
        "id": "view-in-github",
        "colab_type": "text"
      },
      "source": [
        "<a href=\"https://colab.research.google.com/github/carolpeixoto1/novo_projeto/blob/main/arrays_isolado%2Blen.ipynb\" target=\"_parent\"><img src=\"https://colab.research.google.com/assets/colab-badge.svg\" alt=\"Open In Colab\"/></a>"
      ]
    },
    {
      "cell_type": "markdown",
      "source": [
        "Arrays **Isolado**"
      ],
      "metadata": {
        "id": "QaWrsp6LASB8"
      }
    },
    {
      "cell_type": "markdown",
      "source": [
        "Para facilitar esse processo, cada linguagem tem uma forma diferente de acessar essa informação. Em Python, a função len(), do inglês length (cumprimento), nos permite saber a quantidade de itens num array, basta passar o nome da variável que guarda o array como argumento.\n"
      ],
      "metadata": {
        "id": "NYYb16GNAkrF"
      }
    },
    {
      "cell_type": "code",
      "execution_count": null,
      "metadata": {
        "id": "R7BFfUKAAI84"
      },
      "outputs": [],
      "source": [
        "lista_frutas = ['maçã', 'banana', 'pera']\n",
        "fruta_preferida = lista_frutas[2]\n",
        "\n",
        "print(fruta_preferida)\n",
        "print(lista_frutas)\n",
        "\n"
      ]
    },
    {
      "cell_type": "code",
      "source": [
        "lista_frutas = ['maçã', 'banana', 'pera']\n",
        "quantidade_frutas = len(lista_frutas)\n",
        "\n",
        "print(quantidade_frutas)\n",
        "ou\n",
        "\n",
        "lista_frutas = ['maçã', 'banana', 'pera']\n",
        "\n",
        "print(len(lista_frutas))\n",
        "\n",
        "Imprimirá o número 3, pois lista_frutas tem três elementos"
      ],
      "metadata": {
        "id": "L-aWMCY6ArZG"
      },
      "execution_count": null,
      "outputs": []
    },
    {
      "cell_type": "code",
      "source": [
        "lista_musicos = [ 'Djavan', 'Roberto Carlos', 'Elis Regina', 'Tom Jobim', 'Milton Nascimento', 'Chico Buarque', 'Nara Leão', 'Pitty', 'Simonal', 'Moacir Santos', 'Caetano Veloso', 'Elza Soares', 'Paulinho da Viola', 'Yamandú Costa', 'Gal Costa']\n",
        "\n",
        "print(len(lista_musicos))\n",
        "print(lista_musicos[2])\n",
        "print(lista_musicos[9])\n",
        "print(lista_musicos[14])"
      ],
      "metadata": {
        "id": "vONZAh8OCsFH"
      },
      "execution_count": null,
      "outputs": []
    }
  ]
}