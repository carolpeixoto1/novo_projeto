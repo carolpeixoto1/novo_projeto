{
  "nbformat": 4,
  "nbformat_minor": 0,
  "metadata": {
    "colab": {
      "provenance": [],
      "authorship_tag": "ABX9TyP9ujLVJjsA3dMvvJMwQbRy",
      "include_colab_link": true
    },
    "kernelspec": {
      "name": "python3",
      "display_name": "Python 3"
    },
    "language_info": {
      "name": "python"
    }
  },
  "cells": [
    {
      "cell_type": "markdown",
      "metadata": {
        "id": "view-in-github",
        "colab_type": "text"
      },
      "source": [
        "<a href=\"https://colab.research.google.com/github/carolpeixoto1/novo_projeto/blob/main/fun%C3%A7%C3%A3o.ipynb\" target=\"_parent\"><img src=\"https://colab.research.google.com/assets/colab-badge.svg\" alt=\"Open In Colab\"/></a>"
      ]
    },
    {
      "cell_type": "markdown",
      "source": [
        "**Função**"
      ],
      "metadata": {
        "id": "UY3sgFrq9H_M"
      }
    },
    {
      "cell_type": "code",
      "execution_count": 28,
      "metadata": {
        "id": "0JIHzXVB9DvP"
      },
      "outputs": [],
      "source": [
        "def multiplicação(num1,num2):\n",
        " resultado= num1*num2\n",
        " return resultado\n",
        "\n",
        " resposta= multiplicação(6,9)\n",
        " print(resposta)\n"
      ]
    }
  ]
}