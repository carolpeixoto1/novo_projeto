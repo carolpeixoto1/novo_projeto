{
  "nbformat": 4,
  "nbformat_minor": 0,
  "metadata": {
    "colab": {
      "provenance": [],
      "authorship_tag": "ABX9TyOIWU+It/vyoHwzh0FVXyxS",
      "include_colab_link": true
    },
    "kernelspec": {
      "name": "python3",
      "display_name": "Python 3"
    },
    "language_info": {
      "name": "python"
    }
  },
  "cells": [
    {
      "cell_type": "markdown",
      "metadata": {
        "id": "view-in-github",
        "colab_type": "text"
      },
      "source": [
        "<a href=\"https://colab.research.google.com/github/carolpeixoto1/novo_projeto/blob/main/comando_de_entrada.ipynb\" target=\"_parent\"><img src=\"https://colab.research.google.com/assets/colab-badge.svg\" alt=\"Open In Colab\"/></a>"
      ]
    },
    {
      "cell_type": "markdown",
      "source": [
        "*Comando de Entrada*/*Problemas*"
      ],
      "metadata": {
        "id": "BsQfOocsjqdD"
      }
    },
    {
      "cell_type": "code",
      "execution_count": null,
      "metadata": {
        "id": "ZGpJAqoqjnWI"
      },
      "outputs": [],
      "source": [
        "def mostrarNumero():\n",
        "  numero_valido = False\n",
        "\n",
        "\n",
        "        while(numero_valido==False):\n",
        "          try:\n",
        "          print(\"Escreva um número igual ou menor que 100\")\n",
        "            numero=int(input())\n",
        "          if(numero > 100):\n",
        "          print(\"Número precisa ser menor que 100\")\n",
        "          else:\n",
        "          print(\"Boa ! você escolheu o número:\"+str(numero))\n",
        "            numero_valido = True\n",
        "          except:\n",
        "          print(\"Escreva somente números\")\n",
        "\n",
        "  mostrarNumero()\n",
        "\n",
        "\n"
      ]
    }
  ]
}